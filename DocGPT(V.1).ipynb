{
  "cells": [
    {
      "cell_type": "markdown",
      "id": "680c925b-ec20-4ea7-b908-c98a5ca27344",
      "metadata": {
        "id": "680c925b-ec20-4ea7-b908-c98a5ca27344"
      },
      "source": [
        "# DocGPT"
      ]
    },
    {
      "cell_type": "markdown",
      "id": "55dd8a50-4e56-4bbc-a985-680526ef75dd",
      "metadata": {
        "id": "55dd8a50-4e56-4bbc-a985-680526ef75dd"
      },
      "source": [
        "##### This is an implementation of gpt2's decoder only transformer. This model is in pre-training stage of the chat gpts model. This project is solely inspired by andrej karpathy's nano gpt."
      ]
    },
    {
      "cell_type": "markdown",
      "id": "b47079c2-4c5d-4f7e-9739-c93b09c6af4f",
      "metadata": {
        "id": "b47079c2-4c5d-4f7e-9739-c93b09c6af4f"
      },
      "source": [
        "## Pre-processing of dataset"
      ]
    },
    {
      "cell_type": "code",
      "execution_count": null,
      "id": "61f9e82d-36c0-4e48-bec4-cef307a56e60",
      "metadata": {
        "id": "61f9e82d-36c0-4e48-bec4-cef307a56e60"
      },
      "outputs": [],
      "source": [
        "import torch\n",
        "import torch.nn as nn\n",
        "from torch.nn import functional as F"
      ]
    },
    {
      "cell_type": "code",
      "execution_count": null,
      "id": "c14db57e-8ea9-427c-8804-004163de2b7f",
      "metadata": {
        "id": "c14db57e-8ea9-427c-8804-004163de2b7f"
      },
      "outputs": [],
      "source": [
        "with open(\"Physic.txt\", \"r\", encoding='utf-8') as f:\n",
        "    text = f.read()"
      ]
    },
    {
      "cell_type": "code",
      "execution_count": null,
      "id": "68b3ef53-5941-4dd0-801e-972638ab3e0a",
      "metadata": {
        "colab": {
          "base_uri": "https://localhost:8080/"
        },
        "id": "68b3ef53-5941-4dd0-801e-972638ab3e0a",
        "outputId": "02c7642d-0637-4be8-f8b3-770cd863c91f"
      },
      "outputs": [
        {
          "output_type": "stream",
          "name": "stdout",
          "text": [
            "\n",
            "\f !\"#$%&'()*+,-./0123456789:;<=>?@ABCDEFGHIJKLMNOPQRSTUVWXYZ[\\]_abcdefghijklmnopqrstuvwxyz{|}~£§¨©¬®°±²´·º»¼½ÁÆÇÉÖ×Üàáâãäæçèéêëíïñòóôö÷øüčıłńŒūźƒ́ΓΔΩαβγχء‐‒–—―‖‗‘’‚“”†•…‫‬′↑→↓↔∂∆−√≈≠≤≥⋅▪▲◇●◦➢ﬁﺋﺎﺐﺑﺘﺣﺪﺮﺳﺴﺸﺼﻀﻌﻐﻔﻟﻤﻨﻮﻲﻷ－�\n",
            "284\n"
          ]
        }
      ],
      "source": [
        "chars = sorted(list(set(text)))\n",
        "vocab_size = len(chars)\n",
        "print(''.join(chars))\n",
        "print(vocab_size)"
      ]
    },
    {
      "cell_type": "code",
      "source": [
        "characters_list = ['#', '$', '%', '&', \"'\", '(', ')', '*', '+', ',', '-', '.', '/', '0', '1', '2', '3', '4', '5', '6',\n",
        "                   '7', '8', '9', ':', ';', '<', '=', '>', '?', '@', 'A', 'B', 'C', 'D', 'E', 'F', 'G', 'H', 'I', 'J',\n",
        "                   'K', 'L', 'M', 'N', 'O', 'P', 'Q', 'R', 'S', 'T', 'U', 'V', 'W', 'X', 'Y', 'Z', '[', '\\\\', ']', '_',\n",
        "                   'a', 'b', 'c', 'd', 'e', 'f', 'g', 'h', 'i', 'j', 'k', 'l', 'm', 'n', 'o', 'p', 'q', 'r', 's', 't',\n",
        "                   'u', 'v', 'w', 'x', 'y', 'z', '{', '|', '}']\n",
        "\n",
        "\n",
        "# Keep only the characters present in characters_list\n",
        "filtered_characters = ''.join([char for char in text if char in characters_list])\n",
        "\n",
        "chars = sorted(list(set(filtered_characters)))\n",
        "vocab_size = len(chars)\n",
        "print(''.join(chars))\n",
        "print(vocab_size)\n"
      ],
      "metadata": {
        "colab": {
          "base_uri": "https://localhost:8080/"
        },
        "id": "OLPm1r2i7eP-",
        "outputId": "1666a0bf-c73e-4d7e-858d-749fd0d4abab"
      },
      "id": "OLPm1r2i7eP-",
      "execution_count": null,
      "outputs": [
        {
          "output_type": "stream",
          "name": "stdout",
          "text": [
            "\n",
            " #$%&'()*+,-./0123456789:;<=>?@ABCDEFGHIJKLMNOPQRSTUVWXYZ[\\]_abcdefghijklmnopqrstuvwxyz{|}\n",
            "91\n"
          ]
        }
      ]
    },
    {
      "cell_type": "code",
      "execution_count": null,
      "id": "9638d8e1-fea3-4337-8554-4001568dbe70",
      "metadata": {
        "id": "9638d8e1-fea3-4337-8554-4001568dbe70"
      },
      "outputs": [],
      "source": [
        "# create a mapping from characters to integers\n",
        "stoi = { ch:i for i,ch in enumerate(chars) }\n",
        "itos = { i:ch for i,ch in enumerate(chars) }\n",
        "encode = lambda s: [stoi[c] for c in s] # encoder: take a string, output a list of integers\n",
        "decode = lambda l: ''.join([itos[i] for i in l]) # decoder: take a list of integers, output a string"
      ]
    },
    {
      "cell_type": "code",
      "execution_count": null,
      "id": "b0fb32dd-2e75-445c-a97e-886aa4d00a94",
      "metadata": {
        "id": "b0fb32dd-2e75-445c-a97e-886aa4d00a94"
      },
      "outputs": [],
      "source": [
        "# Train and test splits\n",
        "data = torch.tensor(encode(filtered_characters), dtype=torch.long)\n",
        "n = int(0.9*len(data)) # first 90% will be train, rest val\n",
        "train_data = data[:n]\n",
        "val_data = data[n:]"
      ]
    },
    {
      "cell_type": "code",
      "execution_count": null,
      "id": "df9a271d-ce10-46b3-8793-0ffc71435d76",
      "metadata": {
        "id": "df9a271d-ce10-46b3-8793-0ffc71435d76"
      },
      "outputs": [],
      "source": [
        "# data loading\n",
        "def get_batch(split):\n",
        "    # generate a small batch of data of inputs x and targets y\n",
        "    data = train_data if split == 'train' else val_data\n",
        "    ix = torch.randint(len(data) - block_size, (batch_size,))\n",
        "    x = torch.stack([data[i:i+block_size] for i in ix])\n",
        "    y = torch.stack([data[i+1:i+block_size+1] for i in ix])\n",
        "    x, y = x.to(device), y.to(device)\n",
        "    return x, y"
      ]
    },
    {
      "cell_type": "code",
      "execution_count": null,
      "id": "413363af-d34b-4ad9-9586-325f8d115dce",
      "metadata": {
        "id": "413363af-d34b-4ad9-9586-325f8d115dce"
      },
      "outputs": [],
      "source": [
        "@torch.no_grad()\n",
        "def estimate_loss():\n",
        "    out = {}\n",
        "    model.eval()\n",
        "    for split in ['train', 'val']:\n",
        "        losses = torch.zeros(eval_iters)\n",
        "        for k in range(eval_iters):\n",
        "            X, Y = get_batch(split)\n",
        "            logits, loss = model(X, Y)\n",
        "            losses[k] = loss.item()\n",
        "        out[split] = losses.mean()\n",
        "    model.train()\n",
        "    return out"
      ]
    },
    {
      "cell_type": "code",
      "execution_count": null,
      "id": "24349706-9f4c-46f6-a885-09284af15d72",
      "metadata": {
        "id": "24349706-9f4c-46f6-a885-09284af15d72"
      },
      "outputs": [],
      "source": [
        "# hyperparameters\n",
        "batch_size = 64 # how many independent sequences will we process in parallel?\n",
        "block_size = 256 # what is the maximum context length for predictions?\n",
        "max_iters = 5000\n",
        "eval_interval = 500\n",
        "learning_rate = 3e-4\n",
        "device = 'cuda' if torch.cuda.is_available() else 'cpu'\n",
        "eval_iters = 200\n",
        "n_embd = 384\n",
        "n_head = 6\n",
        "n_layer = 6\n",
        "dropout = 0.2\n",
        "# ------------"
      ]
    },
    {
      "cell_type": "markdown",
      "id": "76cc765c-0645-486a-a7a3-2d94edb678ef",
      "metadata": {
        "id": "76cc765c-0645-486a-a7a3-2d94edb678ef"
      },
      "source": [
        "## Model Architecture"
      ]
    },
    {
      "cell_type": "code",
      "execution_count": null,
      "id": "097e62a7-14db-4832-bd14-51f4a7101f39",
      "metadata": {
        "id": "097e62a7-14db-4832-bd14-51f4a7101f39"
      },
      "outputs": [],
      "source": [
        "class Head(nn.Module):\n",
        "    \"\"\" one head of self-attention \"\"\"\n",
        "\n",
        "    def __init__(self, head_size):\n",
        "        super().__init__()\n",
        "        self.key = nn.Linear(n_embd, head_size, bias=False)\n",
        "        self.query = nn.Linear(n_embd, head_size, bias=False)\n",
        "        self.value = nn.Linear(n_embd, head_size, bias=False)\n",
        "        self.register_buffer('tril', torch.tril(torch.ones(block_size, block_size)))\n",
        "\n",
        "        self.dropout = nn.Dropout(dropout)\n",
        "\n",
        "    def forward(self, x):\n",
        "        # input of size (batch, time-step, channels)\n",
        "        # output of size (batch, time-step, head size)\n",
        "        B,T,C = x.shape\n",
        "        k = self.key(x)   # (B,T,hs)\n",
        "        q = self.query(x) # (B,T,hs)\n",
        "        # compute attention scores (\"affinities\")\n",
        "        wei = q @ k.transpose(-2,-1) * k.shape[-1]**-0.5 # (B, T, hs) @ (B, hs, T) -> (B, T, T)\n",
        "        wei = wei.masked_fill(self.tril[:T, :T] == 0, float('-inf')) # (B, T, T)\n",
        "        wei = F.softmax(wei, dim=-1) # (B, T, T)\n",
        "        wei = self.dropout(wei)\n",
        "        # perform the weighted aggregation of the values\n",
        "        v = self.value(x) # (B,T,hs)\n",
        "        out = wei @ v # (B, T, T) @ (B, T, hs) -> (B, T, hs)\n",
        "        return out\n",
        "\n",
        "class MultiHeadAttention(nn.Module):\n",
        "    \"\"\" multiple heads of self-attention in parallel \"\"\"\n",
        "\n",
        "    def __init__(self, num_heads, head_size):\n",
        "        super().__init__()\n",
        "        self.heads = nn.ModuleList([Head(head_size) for _ in range(num_heads)])\n",
        "        self.proj = nn.Linear(head_size * num_heads, n_embd)\n",
        "        self.dropout = nn.Dropout(dropout)\n",
        "\n",
        "    def forward(self, x):\n",
        "        out = torch.cat([h(x) for h in self.heads], dim=-1)\n",
        "        out = self.dropout(self.proj(out))\n",
        "        return out\n",
        "\n",
        "class FeedFoward(nn.Module):\n",
        "    \"\"\" a simple linear layer followed by a non-linearity \"\"\"\n",
        "\n",
        "    def __init__(self, n_embd):\n",
        "        super().__init__()\n",
        "        self.net = nn.Sequential(\n",
        "            nn.Linear(n_embd, 4 * n_embd),\n",
        "            nn.ReLU(),\n",
        "            nn.Linear(4 * n_embd, n_embd),\n",
        "            nn.Dropout(dropout),\n",
        "        )\n",
        "\n",
        "    def forward(self, x):\n",
        "        return self.net(x)\n",
        "\n",
        "class Block(nn.Module):\n",
        "    \"\"\" Transformer block: communication followed by computation \"\"\"\n",
        "\n",
        "    def __init__(self, n_embd, n_head):\n",
        "        # n_embd: embedding dimension, n_head: the number of heads we'd like\n",
        "        super().__init__()\n",
        "        head_size = n_embd // n_head\n",
        "        self.sa = MultiHeadAttention(n_head, head_size)\n",
        "        self.ffwd = FeedFoward(n_embd)\n",
        "        self.ln1 = nn.LayerNorm(n_embd)\n",
        "        self.ln2 = nn.LayerNorm(n_embd)\n",
        "\n",
        "    def forward(self, x):\n",
        "        x = x + self.sa(self.ln1(x))\n",
        "        x = x + self.ffwd(self.ln2(x))\n",
        "        return x\n",
        "\n",
        "class GPTLanguageModel(nn.Module):\n",
        "\n",
        "    def __init__(self):\n",
        "        super().__init__()\n",
        "        # each token directly reads off the logits for the next token from a lookup table\n",
        "        self.token_embedding_table = nn.Embedding(vocab_size, n_embd)\n",
        "        self.position_embedding_table = nn.Embedding(block_size, n_embd)\n",
        "        self.blocks = nn.Sequential(*[Block(n_embd, n_head=n_head) for _ in range(n_layer)])\n",
        "        self.ln_f = nn.LayerNorm(n_embd) # final layer norm\n",
        "        self.lm_head = nn.Linear(n_embd, vocab_size)\n",
        "\n",
        "        # better init, not covered in the original GPT video, but important, will cover in followup video\n",
        "        self.apply(self._init_weights)\n",
        "\n",
        "    def _init_weights(self, module):\n",
        "        if isinstance(module, nn.Linear):\n",
        "            torch.nn.init.normal_(module.weight, mean=0.0, std=0.02)\n",
        "            if module.bias is not None:\n",
        "                torch.nn.init.zeros_(module.bias)\n",
        "        elif isinstance(module, nn.Embedding):\n",
        "            torch.nn.init.normal_(module.weight, mean=0.0, std=0.02)\n",
        "\n",
        "    def forward(self, idx, targets=None):\n",
        "        B, T = idx.shape\n",
        "\n",
        "        # idx and targets are both (B,T) tensor of integers\n",
        "        tok_emb = self.token_embedding_table(idx) # (B,T,C)\n",
        "        pos_emb = self.position_embedding_table(torch.arange(T, device=device)) # (T,C)\n",
        "        x = tok_emb + pos_emb # (B,T,C)\n",
        "        x = self.blocks(x) # (B,T,C)\n",
        "        x = self.ln_f(x) # (B,T,C)\n",
        "        logits = self.lm_head(x) # (B,T,vocab_size)\n",
        "\n",
        "        if targets is None:\n",
        "            loss = None\n",
        "        else:\n",
        "            B, T, C = logits.shape\n",
        "            logits = logits.view(B*T, C)\n",
        "            targets = targets.view(B*T)\n",
        "            loss = F.cross_entropy(logits, targets)\n",
        "\n",
        "        return logits, loss\n",
        "\n",
        "    def generate(self, idx, max_new_tokens):\n",
        "        # idx is (B, T) array of indices in the current context\n",
        "        for _ in range(max_new_tokens):\n",
        "            # crop idx to the last block_size tokens\n",
        "            idx_cond = idx[:, -block_size:]\n",
        "            # get the predictions\n",
        "            logits, loss = self(idx_cond)\n",
        "            # focus only on the last time step\n",
        "            logits = logits[:, -1, :] # becomes (B, C)\n",
        "            # apply softmax to get probabilities\n",
        "            probs = F.softmax(logits, dim=-1) # (B, C)\n",
        "            # sample from the distribution\n",
        "            idx_next = torch.multinomial(probs, num_samples=1) # (B, 1)\n",
        "            # append sampled index to the running sequence\n",
        "            idx = torch.cat((idx, idx_next), dim=1) # (B, T+1)\n",
        "        return idx\n"
      ]
    },
    {
      "cell_type": "markdown",
      "id": "3b276e97-3219-406f-941c-7135b7ee6e8a",
      "metadata": {
        "id": "3b276e97-3219-406f-941c-7135b7ee6e8a"
      },
      "source": [
        "## Training model"
      ]
    },
    {
      "cell_type": "code",
      "execution_count": null,
      "id": "789c66c3-5bce-4725-b762-3fa1ed311a6e",
      "metadata": {
        "colab": {
          "base_uri": "https://localhost:8080/"
        },
        "id": "789c66c3-5bce-4725-b762-3fa1ed311a6e",
        "outputId": "e81da147-3aa2-45bc-cc17-74182504ab03"
      },
      "outputs": [
        {
          "output_type": "stream",
          "name": "stdout",
          "text": [
            "10.808923 M parameters\n",
            "step 0: train loss 4.6324, val loss 4.6344\n",
            "step 500: train loss 2.1285, val loss 2.3068\n",
            "step 1000: train loss 1.6291, val loss 1.8539\n",
            "step 1500: train loss 1.4561, val loss 1.7353\n",
            "step 2000: train loss 1.3592, val loss 1.6380\n",
            "step 2500: train loss 1.2973, val loss 1.5911\n",
            "step 3000: train loss 1.2547, val loss 1.5491\n",
            "step 3500: train loss 1.2132, val loss 1.5073\n",
            "step 4000: train loss 1.1881, val loss 1.5070\n",
            "step 4500: train loss 1.1595, val loss 1.4760\n",
            "step 4999: train loss 1.1304, val loss 1.4530\n"
          ]
        }
      ],
      "source": [
        "model = GPTLanguageModel()\n",
        "m = model.to(device)\n",
        "# print the number of parameters in the model\n",
        "print(sum(p.numel() for p in m.parameters())/1e6, 'M parameters')\n",
        "\n",
        "# create a PyTorch optimizer\n",
        "optimizer = torch.optim.AdamW(model.parameters(), lr=learning_rate)\n",
        "\n",
        "for iter in range(max_iters):\n",
        "\n",
        "    # every once in a while evaluate the loss on train and val sets\n",
        "    if iter % eval_interval == 0 or iter == max_iters - 1:\n",
        "        losses = estimate_loss()\n",
        "        print(f\"step {iter}: train loss {losses['train']:.4f}, val loss {losses['val']:.4f}\")\n",
        "\n",
        "    # sample a batch of data\n",
        "    xb, yb = get_batch('train')\n",
        "\n",
        "    # evaluate the loss\n",
        "    logits, loss = model(xb, yb)\n",
        "    optimizer.zero_grad(set_to_none=True)\n",
        "    loss.backward()\n",
        "    optimizer.step()"
      ]
    },
    {
      "cell_type": "markdown",
      "id": "f3a9a78e-d244-46dc-8dce-abf9a5aa16b8",
      "metadata": {
        "id": "f3a9a78e-d244-46dc-8dce-abf9a5aa16b8"
      },
      "source": [
        "## Output Generated from the Model"
      ]
    },
    {
      "cell_type": "code",
      "execution_count": null,
      "id": "b1bd3abf-ec90-4937-b18e-d46da36e2009",
      "metadata": {
        "colab": {
          "base_uri": "https://localhost:8080/"
        },
        "id": "b1bd3abf-ec90-4937-b18e-d46da36e2009",
        "outputId": "8f070c7a-1feb-4247-eba5-4cf0f1ab6405"
      },
      "outputs": [
        {
          "output_type": "stream",
          "name": "stdout",
          "text": [
            "\n",
            "Phormone treatment shasn\n",
            "been referng t, peratransplant [4]\n",
            "Srld PMATON [0.1 inhibitors and USPH]\n",
            "FI is a mortality rate of histoplasty. Cmpletin inhibitor\n",
            "remains nt en superinatal phenonin, skin headache, and at vitampn,\n",
            "the first severe illness seen initive blubrid and gastritisting\n",
            "in resistant men, especially gastrines, rashmas,\n",
            "or dinister, or cancing a gastrin, and frifarn dysfunc-frequently\n",
            "in sensation.\n",
            "Trs, in secal weight gays (tripid best aphabiture from malignancy,\n",
            "pedication, and s\n"
          ]
        }
      ],
      "source": [
        "# generate from the model\n",
        "context = torch.zeros((1, 1), dtype=torch.long, device=device)\n",
        "print(decode(m.generate(context, max_new_tokens=500)[0].tolist()))\n"
      ]
    },
    {
      "cell_type": "code",
      "execution_count": null,
      "id": "39d731f4-e277-4569-91e4-490959f96944",
      "metadata": {
        "colab": {
          "base_uri": "https://localhost:8080/"
        },
        "id": "39d731f4-e277-4569-91e4-490959f96944",
        "outputId": "4f220476-4a88-4df1-dd15-249f41fe581b"
      },
      "outputs": [
        {
          "output_type": "execute_result",
          "data": {
            "text/plain": [
              "10001"
            ]
          },
          "metadata": {},
          "execution_count": 23
        }
      ],
      "source": [
        "open('more.txt', 'w').write(decode(m.generate(context, max_new_tokens=10000)[0].tolist()))"
      ]
    },
    {
      "cell_type": "code",
      "execution_count": null,
      "id": "8b60ffa5-06f9-4983-88d9-35b5ccb666b0",
      "metadata": {
        "id": "8b60ffa5-06f9-4983-88d9-35b5ccb666b0"
      },
      "outputs": [],
      "source": []
    },
    {
      "cell_type": "code",
      "execution_count": null,
      "id": "10f7f259-dacb-4ea8-8347-2ececd2e235d",
      "metadata": {
        "id": "10f7f259-dacb-4ea8-8347-2ececd2e235d"
      },
      "outputs": [],
      "source": []
    }
  ],
  "metadata": {
    "kernelspec": {
      "display_name": "Python 3",
      "name": "python3"
    },
    "language_info": {
      "codemirror_mode": {
        "name": "ipython",
        "version": 3
      },
      "file_extension": ".py",
      "mimetype": "text/x-python",
      "name": "python",
      "nbconvert_exporter": "python",
      "pygments_lexer": "ipython3",
      "version": "3.11.5"
    },
    "colab": {
      "provenance": [],
      "gpuType": "T4"
    },
    "accelerator": "GPU"
  },
  "nbformat": 4,
  "nbformat_minor": 5
}